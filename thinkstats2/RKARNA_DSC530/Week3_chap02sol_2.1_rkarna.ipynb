{
 "cells": [
  {
   "cell_type": "markdown",
   "metadata": {},
   "source": [
    "DSC 530 T303 (2213-1)/n",
    "\nSummarize whether first babies arrive late.\n",
    "\nWeek 3 - 3.2 Exercise: Summarize whether first babies arrive late.\n",
    "\nAuthor Rajasekharreddy Karna\n",
    "\n12/18/2020\n"
   ]
  },
  {
   "cell_type": "code",
   "execution_count": 1,
   "metadata": {},
   "outputs": [    {
     "data": {
      "image/png": "[encoded data removed]",
      "text/plain": [
       "<Figure size 432x288 with 1 Axes>"
      ]
     },
     "metadata": {
      "needs_background": "light"
     },
     "output_type": "display_data"
    }
    ],
   "source": [
    "from __future__ import print_function, division\n",
    "\n",
    "%matplotlib inline\n",
    "\n",
    "import numpy as np\n",
    "\n",
    "import nsfg\n",
    "import first",
    "from collections import Counter\n",
    "counter = Counter(t)\n",
    "import thinkstats2\n",
    "hist = thinkstats2.Hist([1, 2, 2, 3, 5])\n",
    "preg = nsfg.ReadFemPreg()\n",
    "live = preg[preg.outcome == 1]",
    "firsts = live[live.birthord == 1]\n",
    "others = live[live.birthord != 1]\n",
    "\n",
    "first_hist = thinkstats2.Hist(firsts.prglngth, label='first')\n",
    "other_hist = thinkstats2.Hist(others.prglngth, label='other')",
    "width = 0.45\n",
    "thinkplot.PrePlot(2)\n",
    "thinkplot.Hist(first_hist, align='right', width=width)\n",
    "thinkplot.Hist(other_hist, align='left', width=width)\n",
    "thinkplot.Config(xlabel='weeks', ylabel='Count', xlim=[27, 46])"
   ]
  },
  {
   "cell_type": "markdown",
   "metadata": {},
   "source": [
    "Analysis Notes:\n",
    "\n",
    "To define whether first babies arrive late or early, we need reference variable to compare with first babies. As author described, assume ‘‘other’ is reference variable to use to compare with ‘first’ variable. Based on the distribution of pregnancy lengths for first babies and others in PrePlot diagram listed below the fact of first babies arrive late is a kind of variable statement person to person. From the histogram, users can see for the babies that born in the weeks of 30weeks to 36weeks & 41weeks to 43weeks the first babies’ arrival is faster compared with other babies. At the same time for the babies that born in the weeks of 37weeks to 40weeks (the maximum number of pregnancy deliveries) has the first babies’ arrival is late compared with other babies.\n",
    "\nCompared with the number of babies deliveries, the statement is correct for the babies born as first babies come late compared with the other babies."
   ]
  },
  {
   "cell_type": "code",
   "execution_count": 2,
   "metadata": {},
   "outputs": [],
   "source": []
  },
  {
   "cell_type": "code",
   "execution_count": null,
   "metadata": {},
   "outputs": [],
   "source": []
  }
 ],
 "metadata": {
  "kernelspec": {
   "display_name": "Python 3",
   "language": "python",
   "name": "python3"
  },
  "language_info": {
   "codemirror_mode": {
    "name": "ipython",
    "version": 3
   },
   "file_extension": ".py",
   "mimetype": "text/x-python",
   "name": "python",
   "nbconvert_exporter": "python",
   "pygments_lexer": "ipython3",
   "version": "3.8.5"
  }
 },
 "nbformat": 4,
 "nbformat_minor": 1
}
